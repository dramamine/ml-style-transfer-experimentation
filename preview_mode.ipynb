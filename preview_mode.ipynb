{
  "nbformat": 4,
  "nbformat_minor": 0,
  "metadata": {
    "colab": {
      "name": "preview_mode.ipynb",
      "private_outputs": true,
      "provenance": [],
      "collapsed_sections": [],
      "include_colab_link": true
    },
    "kernelspec": {
      "name": "python3",
      "display_name": "Python 3"
    },
    "accelerator": "GPU"
  },
  "cells": [
    {
      "cell_type": "markdown",
      "metadata": {
        "id": "view-in-github",
        "colab_type": "text"
      },
      "source": [
        "<a href=\"https://colab.research.google.com/github/dramamine/ml-style-transfer-experimentation/blob/multi-preview/preview_mode.ipynb\" target=\"_parent\"><img src=\"https://colab.research.google.com/assets/colab-badge.svg\" alt=\"Open In Colab\"/></a>"
      ]
    },
    {
      "cell_type": "markdown",
      "metadata": {
        "id": "ZMpWwQOT8rzG"
      },
      "source": [
        "## Preview Image Styles\n",
        "\n",
        "TODO:  Link to inspiration demos and credit sources\n"
      ]
    },
    {
      "cell_type": "code",
      "metadata": {
        "id": "3r5c0g7PKlbF"
      },
      "source": [
        "# Here's the rough plan:\n",
        "\n",
        "# V0 - take two images, run them at 1x1 ✅\n",
        "# V1 - take two directories of 2 images, run them at 1x1, display in a grid with originals\n",
        "\n",
        "# Stretch goals\n",
        "# - add \"random sample\" mode for pulling handful of imgs from dir\n",
        "# - directory chooser / file browser\n",
        "# - add \"pick your images\" mode"
      ],
      "execution_count": null,
      "outputs": []
    },
    {
      "cell_type": "code",
      "metadata": {
        "id": "hbnKDG4jgJf4",
        "cellView": "form"
      },
      "source": [
        "#@title 0. Get utils code from github 🐙🐱\n",
        "\n",
        "# Here's how to import from our github for these files!\n",
        "branch_name = 'main' #@param\n",
        "\n",
        "# Start from /content/ dir, clone git repo\n",
        "%cd /content\n",
        "%rm -rf ml-style-transfer-experimentation\n",
        "!git clone https://github.com/dramamine/ml-style-transfer-experimentation\n",
        "\n",
        "# cd into git repo, change branch\n",
        "%cd ml-style-transfer-experimentation\n",
        "!git checkout $branch_name\n",
        "\n",
        "# import python files\n",
        "from lib.utils import test_a_python_import_from_github\n",
        "from lib.utils import StepTimer\n",
        "test_a_python_import_from_github()\n",
        "\n",
        "#\n",
        "# Import Style Transfer Utils\n",
        "#\n",
        "import lib.style_transfer_utils as sxu\n",
        "print('')\n",
        "print('👍 imported style transfer utils 👍') if sxu else print('💀 ERROR 💀')\n",
        "print('')\n",
        "\n",
        "# back to base directory\n",
        "%cd /content\n"
      ],
      "execution_count": null,
      "outputs": []
    },
    {
      "cell_type": "code",
      "metadata": {
        "id": "ciYyUYVZT4IA",
        "cellView": "form"
      },
      "source": [
        "#@title 1. Install Dependencies 🧰\n",
        "#@markdown Install dependencies. ***Probably don't modify this?*** The setup should not take more than two minutes. \n",
        "print(\"Installing tf-nightly...\")\n",
        "!pip uninstall -q -y tensorflow \n",
        "!pip install -q tf-nightly\n",
        "\n",
        "from IPython.display import clear_output\n",
        "import matplotlib.pyplot as plt\n",
        "import tensorflow as tf\n",
        " \n",
        "clear_output()\n",
        "\n",
        "print(\"tf-nightly installed.\")\n",
        "\n",
        "# Download the style bottleneck and transfer networks\n",
        "print('Downloading the model files...')\n",
        "\n",
        "style_predict_path = tf.keras.utils.get_file('style_predict.tflite', 'https://tfhub.dev/sayakpaul/lite-model/arbitrary-image-stylization-inceptionv3/int8/predict/1?lite-format=tflite')\n",
        "style_transform_path = style_transform_path = tf.keras.utils.get_file('style_transform.tflite', 'https://tfhub.dev/sayakpaul/lite-model/arbitrary-image-stylization-inceptionv3/int8/transfer/1?lite-format=tflite')\n",
        "\n",
        "print('Model files downloaded...')\n",
        "\n",
        "# other deps\n",
        "from IPython.display import display\n",
        "import ipywidgets as widgets\n",
        "\n",
        "import numpy as np\n",
        "import io\n",
        "import os\n",
        "\n",
        "print('You are all set!')"
      ],
      "execution_count": null,
      "outputs": []
    },
    {
      "cell_type": "code",
      "metadata": {
        "id": "jVyDbPBUxhwm"
      },
      "source": [
        ""
      ],
      "execution_count": null,
      "outputs": []
    },
    {
      "cell_type": "code",
      "metadata": {
        "id": "aPf_hsc9Z25y",
        "cellView": "form"
      },
      "source": [
        "#@title 2. Mount Google Drive\n",
        "\n",
        "print(\"Mounting google drive...\")\n",
        "from google.colab import drive\n",
        "drive.mount('/content/drive')\n"
      ],
      "execution_count": null,
      "outputs": []
    },
    {
      "cell_type": "code",
      "metadata": {
        "id": "9Mgx257IRbYA"
      },
      "source": [
        "from PIL import Image\n",
        "import os\n",
        "def load_or_render_preview_cell(content_image_path, style_image_path, blend_ratio, base_dir, output_dir):\n",
        "  params = dict(\n",
        "    # inputs\n",
        "    content_image_path=content_image_path,\n",
        "    style_image_path=style_image_path,\n",
        "    content_blending_ratio=blend_ratio,\n",
        "    # preview param settings\n",
        "    rows=1,\n",
        "    cols=1,\n",
        "    use_tiled_style_image=False,\n",
        "    use_fluid_blend=False,\n",
        "    edge_size=8,\n",
        "    magnitude=2,\n",
        "    squeeze=0,\n",
        "    # file locations\n",
        "    drive_base=base_dir,\n",
        "    output_directory=output_dir,\n",
        "  )\n",
        "\n",
        "  # Check to see if we already rendered this preview, and return it if so\n",
        "  target_filename = output_dir + sxu.get_output_filename(**params)\n",
        "  if os.path.isfile(target_filename):\n",
        "    return Image.open(target_filename)\n",
        "\n",
        "  # Render the preview and log the timing\n",
        "  with StepTimer('[[TIMING]] Render preview image'):\n",
        "    return sxu.run(**params)"
      ],
      "execution_count": null,
      "outputs": []
    },
    {
      "cell_type": "code",
      "metadata": {
        "id": "rEfBMoZoYpLn"
      },
      "source": [
        "from PIL import Image\n",
        "# square and center the image by removing extra height or width\n",
        "def square_crop_and_center(img):\n",
        "  width, height = img.size\n",
        "  new_width = new_height = min(width, height)\n",
        "\n",
        "  left = (width - new_width)/2\n",
        "  top = (height - new_height)/2\n",
        "  right = (width + new_width)/2\n",
        "  bottom = (height + new_height)/2\n",
        "\n",
        "  return img.crop((left, top, right, bottom))"
      ],
      "execution_count": null,
      "outputs": []
    },
    {
      "cell_type": "code",
      "metadata": {
        "id": "rbwAyRrCaRam"
      },
      "source": [
        "#@title 3. Run It\n",
        "import matplotlib.pyplot as plt\n",
        "from PIL import Image\n",
        "\n",
        "#\n",
        "# Preview Grid Parameters\n",
        "#\n",
        "gdrive_basedir = '/content/drive/MyDrive/images/' #@param\n",
        "\n",
        "content_folder = 'content' #@param\n",
        "style_folder = 'style' #@param\n",
        "\n",
        "content_blending_ratio = 0.2 #@param {type:\"slider\", min:0, max:1, step:0.1}\n",
        "\n",
        "preview_width = 15 #@param {type:\"slider\", min:5, max:15, step:1}\n",
        "preview_height = 15 #@param {type:\"slider\", min:5, max:15, step:1}\n",
        "\n",
        "gdrive_outdir = '/content/drive/MyDrive/images/previews/' #@param\n",
        "\n",
        "#\n",
        "# Render Preview Grid\n",
        "#\n",
        "\n",
        "content_imgs = os.listdir(gdrive_basedir + content_folder)\n",
        "style_imgs =  os.listdir(gdrive_basedir + style_folder)\n",
        "\n",
        "content_len = len(content_imgs)\n",
        "style_len = len(style_imgs)\n",
        "\n",
        "# initialize preview grid\n",
        "preview_grid, subplots = plt.subplots(content_len+1, style_len+1)\n",
        "\n",
        "# remove ALL grid axes\n",
        "for ii in range(content_len+1):\n",
        "  for jj in range(style_len+1):\n",
        "    subplots[ii, jj].axis('off')\n",
        "\n",
        "# show content and style images (crop to content size)\n",
        "for ii in range(content_len):\n",
        "  for jj in range(style_len):\n",
        "    subplots[ii+1, 0].imshow(\n",
        "      square_crop_and_center(\n",
        "        Image.open(\n",
        "          gdrive_basedir + \n",
        "          content_folder + '/' +\n",
        "          content_imgs[ii]\n",
        "        )\n",
        "      )\n",
        "    )\n",
        "    subplots[0, jj+1].imshow(\n",
        "      square_crop_and_center(\n",
        "        Image.open(\n",
        "          gdrive_basedir + \n",
        "          style_folder + '/' +\n",
        "          style_imgs[jj]\n",
        "        )\n",
        "      )\n",
        "    )\n",
        "\n",
        "# render preview grid\n",
        "for ii in range(content_len):\n",
        "  for jj in range(style_len):\n",
        "    content_image_path = f'{content_folder}/{content_imgs[ii]}'\n",
        "    style_image_path = f'{style_folder}/{style_imgs[jj]}'\n",
        "\n",
        "    result_plot = subplots[ii+1, jj+1]\n",
        "    result = load_or_render_preview_cell(\n",
        "      content_image_path,\n",
        "      style_image_path,\n",
        "      content_blending_ratio,\n",
        "      gdrive_basedir,\n",
        "      gdrive_outdir\n",
        "    )\n",
        "    result_plot.imshow(result)\n",
        "\n",
        "preview_grid.subplots_adjust(hspace=0.20, wspace=0.05)\n",
        "preview_grid.set_size_inches(preview_width, preview_height)\n",
        "\n",
        "preview_grid.savefig(gdrive_outdir + 'preview.jpg')\n",
        "\n",
        "print('\\nPreview Grid')"
      ],
      "execution_count": null,
      "outputs": []
    }
  ]
}